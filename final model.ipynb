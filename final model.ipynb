{
  "cells": [
    {
      "cell_type": "markdown",
      "metadata": {
        "id": "Ioro4JEJZawc"
      },
      "source": []
    },
    {
      "cell_type": "code",
      "execution_count": null,
      "metadata": {
        "colab": {
          "base_uri": "https://localhost:8080/"
        },
        "id": "28gkuVE_STd4",
        "outputId": "3597025d-ba11-4553-ab9c-ab0c18ae0fab"
      },
      "outputs": [],
      "source": [
        "!pip install python-docx"
      ]
    },
    {
      "cell_type": "code",
      "execution_count": null,
      "metadata": {
        "colab": {
          "base_uri": "https://localhost:8080/"
        },
        "id": "BubJDX0ZSVni",
        "outputId": "31c70fde-be88-442f-d13c-2119788adb9c"
      },
      "outputs": [],
      "source": [
        "import os\n",
        "import pandas as pd\n",
        "import docx\n",
        "from sklearn.feature_extraction.text import TfidfVectorizer\n",
        "from sklearn.metrics.pairwise import cosine_similarity\n",
        "import re\n",
        "import nltk\n",
        "from nltk.corpus import stopwords\n",
        "from nltk.stem import WordNetLemmatizer\n",
        "nltk.download('stopwords')\n",
        "nltk.download('wordnet')\n"
      ]
    },
    {
      "cell_type": "code",
      "execution_count": null,
      "metadata": {
        "colab": {
          "base_uri": "https://localhost:8080/"
        },
        "id": "lCO3wumWVw3b",
        "outputId": "cd12bdbb-dc36-4f38-bd9b-1d4c1d29a068"
      },
      "outputs": [],
      "source": [
        "import pandas as pd\n",
        "import os\n",
        "from docx import Document\n",
        "\n",
        "\n",
        "job_data = pd.read_csv(\"jobs.csv\")\n",
        "\n",
        "\n",
        "def extract_text_from_docx(file_path):\n",
        "    doc = Document(file_path)\n",
        "    return \" \".join([para.text for para in doc.paragraphs])\n",
        "\n",
        "resume_folder = \"/content/drive/MyDrive/Resumes\"\n",
        "\n",
        "resumes = {}\n",
        "for resume_file in os.listdir(resume_folder):\n",
        "    if resume_file.endswith(\".docx\"):\n",
        "        resume_text = extract_text_from_docx(os.path.join(resume_folder, resume_file))\n",
        "        resumes[resume_file] = resume_text\n",
        "\n",
        "print(\"Job Data Sample:\")\n",
        "print(job_data.head())\n",
        "print(\"\\nSample Resumes:\")\n",
        "for name, text in resumes.items():\n",
        "    print(f\"{name}: {text[:100]}...\") "
      ]
    },
    {
      "cell_type": "code",
      "execution_count": null,
      "metadata": {
        "colab": {
          "base_uri": "https://localhost:8080/"
        },
        "id": "YusQLtx6WAST",
        "outputId": "c167584c-3458-48e5-c2b0-4f57f462f6a0"
      },
      "outputs": [],
      "source": [
        "import re\n",
        "import nltk\n",
        "from nltk.corpus import stopwords\n",
        "from nltk.tokenize import word_tokenize\n",
        "\n",
        "nltk.download('punkt')\n",
        "nltk.download('stopwords')\n",
        "nltk.download('punkt_tab') \n",
        "\n",
        "\n",
        "def preprocess_text(text):\n",
        "   \n",
        "    text = text.lower()\n",
        "    \n",
        "    text = re.sub(r'[^a-zA-Z0-9\\s]', '', text)\n",
        "    \n",
        "    words = word_tokenize(text)\n",
        "    \n",
        "    stop_words = set(stopwords.words('english'))\n",
        "    words = [word for word in words if word not in stop_words]\n",
        "    return words\n",
        "\n",
        "\n",
        "job_data['cleaned_skills'] = job_data['Key Skills'].apply(preprocess_text)\n",
        "\n",
        "\n",
        "for resume_file in resumes.keys():\n",
        "    resumes[resume_file] = preprocess_text(resumes[resume_file])\n",
        "\n",
        "\n",
        "print(\"Preprocessed Job Skills:\")\n",
        "print(job_data[['Job Title', 'cleaned_skills']].head())\n",
        "\n",
        "print(\"\\nPreprocessed Resume Samples:\")\n",
        "for name, text in resumes.items():\n",
        "    print(f\"{name}: {text[:10]}...\")"
      ]
    },
    {
      "cell_type": "code",
      "execution_count": null,
      "metadata": {
        "colab": {
          "base_uri": "https://localhost:8080/"
        },
        "id": "CScfWdS_WgW8",
        "outputId": "29fd07c6-2c9f-43a6-d3f2-5ad42eab4d16"
      },
      "outputs": [],
      "source": [
        "from sklearn.feature_extraction.text import TfidfVectorizer\n",
        "from sklearn.metrics.pairwise import cosine_similarity\n",
        "\n",
        "\n",
        "job_skills = job_data['cleaned_skills'].apply(lambda x: ' '.join(x)).tolist()\n",
        "resume_skills = [' '.join(text) for text in resumes.values()]\n",
        "\n",
        "\n",
        "vectorizer = TfidfVectorizer()\n",
        "job_vectors = vectorizer.fit_transform(job_skills)\n",
        "resume_vectors = vectorizer.transform(resume_skills)\n",
        "\n",
        "\n",
        "similarity_scores = cosine_similarity(resume_vectors, job_vectors)\n",
        "\n",
        "\n",
        "for i, resume_name in enumerate(resumes.keys()):\n",
        "    print(f\"\\nSimilarity Scores for {resume_name}:\")\n",
        "    for j, job_title in enumerate(job_data['Job Title']):\n",
        "        print(f\"  Job: {job_title} - Score: {similarity_scores[i, j]:.2f}\")\n"
      ]
    },
    {
      "cell_type": "code",
      "execution_count": null,
      "metadata": {
        "colab": {
          "base_uri": "https://localhost:8080/"
        },
        "id": "sRJjQyV_Zl6E",
        "outputId": "376a14e9-dbe4-4878-eaf8-70e6ac5044bc"
      },
      "outputs": [],
      "source": [
        "\n",
        "def extract_experience(text):\n",
        "    \n",
        "    match = re.search(r'(\\d+)\\s*(years|yrs)', text.lower())\n",
        "    return int(match.group(1)) if match else 0\n",
        "\n",
        "\n",
        "job_data['experience_required'] = job_data['Job Experience Required'].apply(extract_experience)\n",
        "\n",
        "\n",
        "resume_experience = {}\n",
        "for resume_file, text in resumes.items():\n",
        "    resume_experience[resume_file] = extract_experience(' '.join(text))\n",
        "\n",
        "\n",
        "print(\"\\nExtracted Job Experience:\")\n",
        "print(job_data[['Job Title', 'experience_required']].head())\n",
        "\n",
        "print(\"\\nExtracted Resume Experience:\")\n",
        "for name, exp in resume_experience.items():\n",
        "    print(f\"{name}: {exp} years\")\n"
      ]
    },
    {
      "cell_type": "code",
      "execution_count": null,
      "metadata": {
        "colab": {
          "base_uri": "https://localhost:8080/"
        },
        "id": "-M5CukJcZqM2",
        "outputId": "2dfd0ee5-fa5c-429c-b0a9-679d7164ec4f"
      },
      "outputs": [],
      "source": [
        "\n",
        "recommendations = {}\n",
        "\n",
        "for job_index, job in job_data.iterrows():\n",
        "    job_experience = job['experience_required']\n",
        "    job_title = job['Job Title']\n",
        "    scores = []\n",
        "\n",
        "    for resume_index, resume_name in enumerate(resumes.keys()):\n",
        "        skill_score = similarity_scores[resume_index, job_index]\n",
        "        resume_experience_years = resume_experience[resume_name]\n",
        "        \n",
        "        experience_score = min(resume_experience_years, job_experience) / max(job_experience, 1)\n",
        "        total_score = (0.7 * skill_score) + (0.3 * experience_score)  \n",
        "        scores.append((resume_name, total_score))\n",
        "\n",
        "    \n",
        "    recommendations[job_title] = sorted(scores, key=lambda x: x[1], reverse=True)\n",
        "\n",
        "\n",
        "for job_title, ranked_resumes in recommendations.items():\n",
        "    print(f\"\\nJob: {job_title}\")\n",
        "    for resume_name, score in ranked_resumes:\n",
        "        print(f\"  Resume: {resume_name} - Score: {score:.2f}\")\n"
      ]
    },
    {
      "cell_type": "code",
      "execution_count": null,
      "metadata": {
        "colab": {
          "base_uri": "https://localhost:8080/"
        },
        "id": "2ZA8ezuFaRTc",
        "outputId": "1830b2fd-4428-44b9-9364-cea4a56a9681"
      },
      "outputs": [],
      "source": [
        "import pandas as pd\n",
        "\n",
        "recommendation_data = []\n",
        "\n",
        "for job_title, ranked_resumes in recommendations.items():\n",
        "    for resume_name, score in ranked_resumes:\n",
        "        recommendation_data.append({\n",
        "            'Job Title': job_title,\n",
        "            'Resume Name': resume_name,\n",
        "            'Match Score': score\n",
        "        })\n",
        "\n",
        "recommendation_df = pd.DataFrame(recommendation_data)\n",
        "\n",
        "recommendation_df.to_csv('job_recommendations.csv', index=False)\n",
        "\n",
        "print(\"\\nSaved Recommendations Preview:\")\n",
        "print(recommendation_df.head())\n"
      ]
    },
    {
      "cell_type": "code",
      "execution_count": null,
      "metadata": {
        "colab": {
          "background_save": true,
          "base_uri": "https://localhost:8080/",
          "height": 1000
        },
        "id": "21MHF4Y-aycZ",
        "outputId": "c642875e-6007-432c-8ade-71f87e72bc50"
      },
      "outputs": [],
      "source": [
        "import matplotlib.pyplot as plt\n",
        "\n",
        "def plot_top_recommendations(recommendations, top_n=5):\n",
        "    for job_title, ranked_resumes in recommendations.items():\n",
        "        top_resumes = ranked_resumes[:top_n]\n",
        "        resume_names = [x[0] for x in top_resumes]\n",
        "        scores = [x[1] for x in top_resumes]\n",
        "\n",
        "        job_title = job_title.replace('\\n', ' ')  \n",
        "        job_title = job_title.replace('\\r', ' ')  \n",
        "\n",
        "        \n",
        "        plt.figure(figsize=(8, 5))\n",
        "        plt.barh(resume_names, scores, color='skyblue')\n",
        "        plt.xlabel('Match Score')\n",
        "        plt.title(f'Top {top_n} Recommendations for {job_title}')\n",
        "        plt.show()\n",
        "\n",
        "\n",
        "plot_top_recommendations(recommendations, top_n=5)"
      ]
    }
  ],
  "metadata": {
    "colab": {
      "provenance": []
    },
    "kernelspec": {
      "display_name": "Python 3",
      "name": "python3"
    },
    "language_info": {
      "name": "python",
      "version": "3.11.9"
    }
  },
  "nbformat": 4,
  "nbformat_minor": 0
}
